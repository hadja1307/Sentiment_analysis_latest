{
 "cells": [
  {
   "cell_type": "markdown",
   "metadata": {},
   "source": [
    "# Tweeter Sentiment analysis "
   ]
  },
  {
   "cell_type": "markdown",
   "metadata": {},
   "source": [
    "###### Let's install the python client for the official Twitter API"
   ]
  },
  {
   "cell_type": "code",
   "execution_count": 1,
   "metadata": {},
   "outputs": [
    {
     "name": "stdout",
     "output_type": "stream",
     "text": [
      "Requirement already satisfied: tweepy in c:\\users\\hadja\\anaconda3\\lib\\site-packages (3.10.0)Note: you may need to restart the kernel to use updated packages.\n",
      "\n",
      "Requirement already satisfied: requests[socks]>=2.11.1 in c:\\users\\hadja\\anaconda3\\lib\\site-packages (from tweepy) (2.24.0)\n",
      "Requirement already satisfied: six>=1.10.0 in c:\\users\\hadja\\anaconda3\\lib\\site-packages (from tweepy) (1.15.0)\n",
      "Requirement already satisfied: requests-oauthlib>=0.7.0 in c:\\users\\hadja\\anaconda3\\lib\\site-packages (from tweepy) (1.3.0)\n",
      "Requirement already satisfied: certifi>=2017.4.17 in c:\\users\\hadja\\anaconda3\\lib\\site-packages (from requests[socks]>=2.11.1->tweepy) (2020.6.20)\n",
      "Requirement already satisfied: urllib3!=1.25.0,!=1.25.1,<1.26,>=1.21.1 in c:\\users\\hadja\\anaconda3\\lib\\site-packages (from requests[socks]>=2.11.1->tweepy) (1.25.11)\n",
      "Requirement already satisfied: chardet<4,>=3.0.2 in c:\\users\\hadja\\anaconda3\\lib\\site-packages (from requests[socks]>=2.11.1->tweepy) (3.0.4)\n",
      "Requirement already satisfied: idna<3,>=2.5 in c:\\users\\hadja\\anaconda3\\lib\\site-packages (from requests[socks]>=2.11.1->tweepy) (2.10)\n",
      "Requirement already satisfied: PySocks!=1.5.7,>=1.5.6; extra == \"socks\" in c:\\users\\hadja\\anaconda3\\lib\\site-packages (from requests[socks]>=2.11.1->tweepy) (1.7.1)\n",
      "Requirement already satisfied: oauthlib>=3.0.0 in c:\\users\\hadja\\anaconda3\\lib\\site-packages (from requests-oauthlib>=0.7.0->tweepy) (3.1.0)\n"
     ]
    }
   ],
   "source": [
    "pip install tweepy"
   ]
  },
  {
   "cell_type": "markdown",
   "metadata": {},
   "source": [
    "######  Let's install  textblob python library for processing textual data"
   ]
  },
  {
   "cell_type": "code",
   "execution_count": 2,
   "metadata": {},
   "outputs": [
    {
     "name": "stdout",
     "output_type": "stream",
     "text": [
      "Requirement already satisfied: textblob in c:\\users\\hadja\\anaconda3\\lib\\site-packages (0.15.3)\n",
      "Requirement already satisfied: nltk>=3.1 in c:\\users\\hadja\\anaconda3\\lib\\site-packages (from textblob) (3.5)\n",
      "Requirement already satisfied: joblib in c:\\users\\hadja\\anaconda3\\lib\\site-packages (from nltk>=3.1->textblob) (0.17.0)\n",
      "Requirement already satisfied: regex in c:\\users\\hadja\\anaconda3\\lib\\site-packages (from nltk>=3.1->textblob) (2020.10.15)\n",
      "Requirement already satisfied: tqdm in c:\\users\\hadja\\anaconda3\\lib\\site-packages (from nltk>=3.1->textblob) (4.50.2)\n",
      "Requirement already satisfied: click in c:\\users\\hadja\\anaconda3\\lib\\site-packages (from nltk>=3.1->textblob) (7.1.2)\n",
      "Note: you may need to restart the kernel to use updated packages.\n"
     ]
    }
   ],
   "source": [
    "pip install textblob"
   ]
  },
  {
   "cell_type": "markdown",
   "metadata": {},
   "source": [
    "######  Let's  install some NLTK corpora "
   ]
  },
  {
   "cell_type": "code",
   "execution_count": 3,
   "metadata": {},
   "outputs": [],
   "source": [
    "import re #re library is a regualr expression that specifies a set of strings that matches it\n",
    "import tweepy #tweepy library is a Python Library used for accesing Twitter API\n",
    "from tweepy import OAuthHandler #OAuthHandler used for twitter to provide Twitter API to authenticate each request.\n",
    "from textblob import TextBlob #textblob is an open source python library  used for processing textual data.\n",
    "import matplotlib.pyplot as plt # Matplotlib used to plot data i.e., pie chart etc\n",
    "\n",
    "#libraries for displaying results in charts \n",
    "import pandas as pd\n",
    "import numpy as np\n"
   ]
  },
  {
   "cell_type": "code",
   "execution_count": 4,
   "metadata": {},
   "outputs": [],
   "source": [
    "#authentication keys found on tweeter account\n",
    "accessToken = \"1353371185145405440-RFcjCV61tWceZC2V4m34AOiMdoYcki\"\n",
    "accessTokenSecret = \"LRyiTnjYanpkersLgViCUylyIaM3AFVIt9JLQLy3OefJX\"\n",
    "consumerKey = \"AiFv3DciTRjSHrIRjVEGIcQEQ\"\n",
    "consumerSecret = \"XgczKyKjPBCfnComUyPEtyHuYYWxmXr9RmnXmvMq2GRcg1VcsL\"\n",
    "\n",
    "auth = tweepy.OAuthHandler(consumerKey,consumerSecret )\n",
    "auth.set_access_token(accessToken,accessTokenSecret)\n",
    "api = tweepy.API(auth, wait_on_rate_limit=True)"
   ]
  },
  {
   "cell_type": "code",
   "execution_count": 5,
   "metadata": {},
   "outputs": [],
   "source": [
    "# Generic Twitter Class for sentiment analysis.\n",
    "class TwitterClient(object):\n",
    "         \n",
    "     # Class constructor or initialization method.\n",
    "    def __init__(self):\n",
    "     #__init__ is a constructor method, constructor is called when an object is created\n",
    "       \n",
    "        \n",
    "        # keys and tokens from the Twitter Dev Console\n",
    "        consumer_key = 'AiFv3DciTRjSHrIRjVEGIcQEQ'\n",
    "        consumer_secret = 'XgczKyKjPBCfnComUyPEtyHuYYWxmXr9RmnXmvMq2GRcg1VcsL'\n",
    "        access_token = '1353371185145405440-RFcjCV61tWceZC2V4m34AOiMdoYcki'\n",
    "        access_token_secret = 'LRyiTnjYanpkersLgViCUylyIaM3AFVIt9JLQLy3OefJX'\n",
    "  \n",
    "        # attempt authentication\n",
    "        try:\n",
    "            print(\"try\")\n",
    "            # create OAuthHandler object\n",
    "            self.auth = tweepy.OAuthHandler(consumer_key, consumer_secret)\n",
    "            # set access token and secret\n",
    "            self.auth.set_access_token(access_token, access_token_secret)\n",
    "            # create tweepy API object to fetch tweets\n",
    "            self.api = tweepy.API(self.auth,wait_on_rate_limit=True)\n",
    "        except:\n",
    "            print(\"Error: Authentication Failed\")\n",
    "            \n",
    "    # Utility function to clean tweet text by removing links, special characters\n",
    "    def clean_tweet(self, tweet):\n",
    "     \n",
    " # using simple regex statements to clean the text, remove any unnecessary punctuation before performing sentiment analysis.\n",
    "   \n",
    "        return ' '.join(re.sub(\"(@[A-Za-z0-9]+)|([^0-9A-Za-z \\t])|(\\w+:\\/\\/\\S+)\", \" \", tweet).split())\n",
    "\n",
    "    # Utility function to classify sentiment of passed tweet using textblob's sentiment method\n",
    "    def get_tweet_sentiment(self, tweet):\n",
    "\n",
    "            # create TextBlob object of passed tweet text\n",
    "            analysis = TextBlob(self.clean_tweet(tweet))\n",
    "            # set sentiment\n",
    "            #if the analysis of the text has a polarity greater than 0, that means the text is positive\n",
    "            #if the analysis of the text has a polarity that is equal to 0 it means it is neutral\n",
    "            #else if the analysis of the text has a polarity that is neither greater than 0 or equal to 0, \n",
    "            #meaning the polarity is less than 0, it means the text is negative.\n",
    "            if analysis.sentiment.polarity > 0:\n",
    "                return 'positive'\n",
    "            elif analysis.sentiment.polarity == 0:\n",
    "                return 'neutral'\n",
    "            elif analysis.sentiment.polarity < 0:\n",
    "                return 'negative'\n",
    "        \n",
    "    \n",
    "        \n",
    "            \n",
    "    # Main function to fetch tweets and parse them.\n",
    "    #count = 5 , 5 is the default number of tweets to display \n",
    "    #if user has not entered number of tweets for sentiment analysis at main function\n",
    "    def get_tweets(self, query, count = 5):\n",
    "\n",
    "            # empty list to store parsed tweets\n",
    "            tweets = []\n",
    "\n",
    "            try:\n",
    "                # call twitter api to fetch tweets\n",
    "                fetched_tweets = self.api.search(q = query, count = count)\n",
    "\n",
    "                # parsing tweets one by one\n",
    "                for tweet in fetched_tweets:\n",
    "                    # empty dictionary to store required params of a tweet\n",
    "                    parsed_tweet = {}\n",
    "\n",
    "                    # saving text of tweet\n",
    "                    parsed_tweet['text'] = tweet.text\n",
    "                    # saving sentiment of tweet\n",
    "                    parsed_tweet['sentiment'] = self.get_tweet_sentiment(tweet.text)\n",
    "\n",
    "                    # appending parsed tweet to tweets list\n",
    "                    if tweet.retweet_count > 0:\n",
    "                        # if tweet has retweets, ensure that it is appended only once to avoid duplicates\n",
    "                        if parsed_tweet not in tweets:\n",
    "                            tweets.append(parsed_tweet)\n",
    "                    else:\n",
    "                        tweets.append(parsed_tweet)\n",
    "                        \n",
    "                # VIEW DATAFRAME USING PANDAS\n",
    "                tweet_list = pd.DataFrame(tweets)\n",
    "                print(\"Tweets from PANDAS: \" + \" \", (tweet_list))\n",
    "                #PRINTING TWEETS TO ALLOW ME TO DISPLAY RESULTS IN CHARTS         \n",
    "                \n",
    "                # return parsed tweets\n",
    "                return tweets\n",
    "\n",
    "            except tweepy.TweepError as e:\n",
    "                # print error (if any)\n",
    "                print(\"Error : \" + str(e))\n",
    "                \n",
    "     \n",
    "    \n"
   ]
  },
  {
   "cell_type": "code",
   "execution_count": 6,
   "metadata": {},
   "outputs": [],
   "source": [
    "def main(query, count = 5): \n",
    "\n",
    "    #count 5 is the default value for tweets when the user did not put the number of tweets to do sentiment analysis on \n",
    "\n",
    "    # creating object of TwitterClient Class \n",
    "\n",
    "    api = TwitterClient() \n",
    "\n",
    "    # calling function to get tweets \n",
    "\n",
    "    tweets = api.get_tweets(query, count) \n",
    "\n",
    "   \n",
    "\n",
    "    # picking positive tweets from tweets \n",
    "    ptweets = [tweet for tweet in tweets if tweet['sentiment'] == 'positive'] \n",
    "\n",
    "    # percentage of positive tweets \n",
    "    print(\"\\nPositive tweets percentage: {} %\".format(100*len(ptweets)/len(tweets)))    \n",
    "    \n",
    "    # picking negative tweets from tweets \n",
    "    ntweets = [tweet for tweet in tweets if tweet['sentiment'] == 'negative'] \n",
    "\n",
    "    # percentage of negative tweets \n",
    "    print(\"Negative tweets percentage: {} %\".format(100*len(ntweets)/len(tweets))) \n",
    "\n",
    "    \n",
    "    neutweets = [tweet for tweet in tweets if tweet['sentiment'] == 'neutral'] \n",
    "    # percentage of neutral tweets \n",
    "    print(\"Neutral tweets percentage: {} %  \".format(100*(len(tweets) -(len( ntweets )+len( ptweets)))/len(tweets)))        \n",
    "     \n",
    "    \n",
    "    # printing first 10 positive tweets \n",
    "    print(\"\\nPositive tweets:\")\n",
    "    for tweet in ptweets[:10]: \n",
    "        print(tweet['text'])       \n",
    "\n",
    "        \n",
    "    \n",
    "    print(\"\\n-------------------------------------------------------------------\") \n",
    "    \n",
    "        #printing 10 neutral tweets\n",
    "    print(\"\\nNegative tweets:\")\n",
    "    for tweet in ntweets[:10]: \n",
    "        print(tweet['text']) \n",
    "    \n",
    "    print(\"\\n-------------------------------------------------------------------\") # space between text\n",
    "    \n",
    "    # printing first 10 negative tweets \n",
    "    print(\"\\nNeutral tweets:\") \n",
    "    for tweet in neutweets[:10]: \n",
    "        print(tweet['text']) \n",
    "        #print(tweet['text_mode='extended'']) \n",
    "        #tweet_mode=\"extended\"\n",
    "        \n",
    "    print(\"\\n----------------------------Sentiment Analysis Charts----------------------------------------------\")\n",
    "# VIEW DATAFRAME USING PANDAS\n",
    "    tweet_list = pd.DataFrame(tweets)\n",
    "    #print(\"Tweets from PANDAS: \" + \" \", (tweet_list))\n",
    "    #PRINTING TWEETS TO ALLOW ME TO DISPLAY RESULTS IN CHARTS\n",
    "        \n",
    "    #TRYOUT\n",
    "    plt.figure(figsize=(9,5)) \n",
    "    plt.title(\"Sentiment Analysis Tweets Chart\", fontsize=10, fontweight=\"bold\") #title of chart\n",
    "    #plt.bar(tweet_list[\"sentiment\"], tweet_list[\"sentiment\"], color = \"green\")\n",
    "    plt.plot(tweet_list[\"sentiment\"], color = \"green\")\n",
    "    plt.show()\n",
    "    \n",
    "    \n",
    "    \n",
    " #===============================================================================================================   \n",
    "\n",
    "    plt.figure(figsize=(10,5)) \n",
    "    plt.title(\"Sentiment Analysis Tweets Chart\", fontsize=10, fontweight=\"bold\") #title of chart  \n",
    "    #plotting histogram of positive, negative and neutral tweets, \n",
    "    #bins allows histogram numerical data to be plotted according to width, height depends on bin\n",
    "    plt.hist(tweet_list[\"sentiment\"], bins = 20, density =1,color = \"purple\") \n",
    "    plt.xlabel(\"Sentiment\") #name of the x label\n",
    "    plt.ylabel(\"percentage % of sentiment analysis tweet\") #name of y label\n",
    "    \n",
    "    plt.show() #displays histogram\n",
    "    \n",
    "    #DISPLAY PERCENTAGE OF TWEETS TO HELP READER\n",
    "    \n",
    "    # picking positive tweets from tweets \n",
    "    ptweets = [tweet for tweet in tweets if tweet['sentiment'] == 'positive'] \n",
    "\n",
    "    # percentage of positive tweets \n",
    "    print(\"\\nPositive tweets percentage: {} %\".format(100*len(ptweets)/len(tweets)))    \n",
    "    \n",
    "    # picking negative tweets from tweets \n",
    "    ntweets = [tweet for tweet in tweets if tweet['sentiment'] == 'negative'] \n",
    "\n",
    "    # percentage of negative tweets \n",
    "    print(\"Negative tweets percentage: {} %\".format(100*len(ntweets)/len(tweets))) \n",
    "\n",
    "    \n",
    "    neutweets = [tweet for tweet in tweets if tweet['sentiment'] == 'neutral'] \n",
    "    # percentage of neutral tweets \n",
    "    print(\"Neutral tweets percentage: {} %  \".format(100*(len(tweets) -(len( ntweets )+len( ptweets)))/len(tweets)))        \n",
    "        \n",
    "\n",
    "    \n",
    "    #---------------------------------------------------------------------------------------------------------\n"
   ]
  },
  {
   "cell_type": "code",
   "execution_count": 7,
   "metadata": {},
   "outputs": [
    {
     "name": "stdout",
     "output_type": "stream",
     "text": [
      "try\n",
      "Tweets from PANDAS:                                                    text sentiment\n",
      "0   If you work in the housing sector, you won’t w...   neutral\n",
      "1   RT @nihecommunity: On #IWD2022 we recognise an...   neutral\n",
      "2   On #IWD2022 we recognise and celebrate women a...   neutral\n",
      "3   Software Implementation Project Manager - Publ...  positive\n",
      "4   Housing Moves: our round up of senior sector a...  negative\n",
      "..                                                ...       ...\n",
      "62  Localz has been working with a variety of orga...   neutral\n",
      "63  On the path to Net Zero, energy-efficient devi...  positive\n",
      "64  Clyde Valley Housing Association has received ...  positive\n",
      "65  Our leadership training is suited to every lev...   neutral\n",
      "66  RT @AMAResearch: #FactFriday\\n\\nThe report ide...  positive\n",
      "\n",
      "[67 rows x 2 columns]\n",
      "\n",
      "Positive tweets percentage: 61.19402985074627 %\n",
      "Negative tweets percentage: 4.477611940298507 %\n",
      "Neutral tweets percentage: 34.32835820895522 %  \n",
      "\n",
      "Positive tweets:\n",
      "Software Implementation Project Manager - Public Sector/Government/Housing\n",
      "at Jumar Solutions Ltd\n",
      "This is a superb… https://t.co/Z1CerAG8zo\n",
      "RT @clawales: So good to see @NorthWalesPost @WalesOnline coverage https://t.co/mhPyguwJpK of our call for @WelshGovernment not to penalise…\n",
      "A lack of clear Government strategies &amp; insufficient financial incentives are undermining progress on decarbonisati… https://t.co/AmO2vqyjcB\n",
      "More funding for the #NorthWest property and #placemaking sector - the Department for Levelling Up, Housing and Com… https://t.co/7IQxk9TBfT\n",
      "In partnership with social and private sector landlords and stakeholders, Glasgow City Council (@GlasgowCC) has dev… https://t.co/sJlPuCRL7y\n",
      "RT @North_Tech1: The National Social Housing Safety and Compliance Week @ASCP_UK shines a spotlight on #safety and #compliance at all level…\n",
      "RT @WhitefoxSurvey: Optimism recedes despite growth in output.\n",
      "\n",
      "Latest survey of purchasing managers indicates that the UK #construction se…\n",
      "Optimism recedes despite growth in output.\n",
      "\n",
      "Latest survey of purchasing managers indicates that the UK… https://t.co/1p0kxjsTab\n",
      "So good to see @NorthWalesPost @WalesOnline coverage https://t.co/mhPyguwJpK of our call for @WelshGovernment not t… https://t.co/JHZbutb029\n",
      "This is about celebrating, recognising all the great achievements in the housing sector from resident engagement, w… https://t.co/khK3iLiySc\n",
      "\n",
      "-------------------------------------------------------------------\n",
      "\n",
      "Negative tweets:\n",
      "Housing Moves: our round up of senior sector appointments in February 2022 https://t.co/kRe0gftr43 #ukhousing https://t.co/2ToZspC0Qe\n",
      "Our corporate plan reinforces the changing role and importance of complaint handling and comes at a period of signi… https://t.co/0syJRVTajV\n",
      "#eastdevon Report an empty property https://t.co/8qDh1uBZQu\n",
      "\n",
      "-------------------------------------------------------------------\n",
      "\n",
      "Neutral tweets:\n",
      "If you work in the housing sector, you won’t want to miss this #eLearning course –\n",
      "\n",
      "The Renting Homes (Wales) Act 2… https://t.co/vrdV6xaGa3\n",
      "RT @nihecommunity: On #IWD2022 we recognise and celebrate women across our organisation and across the housing sector. Together we can #Bre…\n",
      "On #IWD2022 we recognise and celebrate women across our organisation and across the housing sector. Together we can… https://t.co/gaASSqIKzp\n",
      "RT @PhoenixYork: Don't miss the chance to meet our housing sector technology specialists at the @natfednews Housing Finance Conference and…\n",
      "The Women in Housing awards celebrates the leaders, innovators and change makers across the sector. You can see the… https://t.co/ZzlCZNx7df\n",
      "@zabekh @theSNP Maybe because people in the UK aren’t getting the services they pay for and every sector is stretch… https://t.co/AkFhX9NHO7\n",
      "On #IWD2022 we recognise and celebrate women across our organisation and across the housing sector. Together we can… https://t.co/no8WQi3gXz\n",
      "Tourism providers on why second homes clampdown is 'catastrophic' 'for Wales' holiday sector #Wales #northwales… https://t.co/x09WFk4VHI\n",
      "\"Housing market leaders vent frustration over stalled leasehold reform\"\n",
      "\n",
      "Leading organisations from the property se… https://t.co/WpDPih3oZM\n",
      "\"We'll publish our White Paper on improving housing in the private sector\" https://t.co/kZtzs4aIw2 Response to… https://t.co/6PQJLJ9exu\n",
      "\n",
      "----------------------------Sentiment Analysis Charts----------------------------------------------\n"
     ]
    },
    {
     "data": {
      "image/png": "[encoded data removed]",
      "text/plain": [
       "<Figure size 648x360 with 1 Axes>"
      ]
     },
     "metadata": {
      "needs_background": "light"
     },
     "output_type": "display_data"
    },
    {
     "data": {
      "image/png": "[encoded data removed]",
      "text/plain": [
       "<Figure size 720x360 with 1 Axes>"
      ]
     },
     "metadata": {
      "needs_background": "light"
     },
     "output_type": "display_data"
    },
    {
     "name": "stdout",
     "output_type": "stream",
     "text": [
      "\n",
      "Positive tweets percentage: 61.19402985074627 %\n",
      "Negative tweets percentage: 4.477611940298507 %\n",
      "Neutral tweets percentage: 34.32835820895522 %  \n"
     ]
    }
   ],
   "source": [
    "main(\"uk housing sector\", 100)"
   ]
  },
  {
   "cell_type": "code",
   "execution_count": null,
   "metadata": {},
   "outputs": [],
   "source": []
  },
  {
   "cell_type": "code",
   "execution_count": null,
   "metadata": {},
   "outputs": [],
   "source": []
  },
  {
   "cell_type": "code",
   "execution_count": null,
   "metadata": {},
   "outputs": [],
   "source": []
  },
  {
   "cell_type": "code",
   "execution_count": null,
   "metadata": {},
   "outputs": [],
   "source": []
  },
  {
   "cell_type": "code",
   "execution_count": null,
   "metadata": {},
   "outputs": [],
   "source": []
  },
  {
   "cell_type": "code",
   "execution_count": null,
   "metadata": {},
   "outputs": [],
   "source": []
  },
  {
   "cell_type": "code",
   "execution_count": null,
   "metadata": {},
   "outputs": [],
   "source": []
  },
  {
   "cell_type": "code",
   "execution_count": null,
   "metadata": {},
   "outputs": [],
   "source": []
  },
  {
   "cell_type": "code",
   "execution_count": null,
   "metadata": {},
   "outputs": [],
   "source": []
  },
  {
   "cell_type": "code",
   "execution_count": null,
   "metadata": {},
   "outputs": [],
   "source": []
  },
  {
   "cell_type": "code",
   "execution_count": null,
   "metadata": {},
   "outputs": [],
   "source": []
  },
  {
   "cell_type": "code",
   "execution_count": null,
   "metadata": {},
   "outputs": [],
   "source": []
  },
  {
   "cell_type": "code",
   "execution_count": null,
   "metadata": {},
   "outputs": [],
   "source": []
  }
 ],
 "metadata": {
  "kernelspec": {
   "display_name": "Python 3",
   "language": "python",
   "name": "python3"
  },
  "language_info": {
   "codemirror_mode": {
    "name": "ipython",
    "version": 3
   },
   "file_extension": ".py",
   "mimetype": "text/x-python",
   "name": "python",
   "nbconvert_exporter": "python",
   "pygments_lexer": "ipython3",
   "version": "3.8.5"
  }
 },
 "nbformat": 4,
 "nbformat_minor": 4
}
