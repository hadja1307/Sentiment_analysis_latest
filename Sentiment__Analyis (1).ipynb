{
 "cells": [
  {
   "cell_type": "markdown",
   "metadata": {},
   "source": [
    "# Tweeter Sentiment analysis "
   ]
  },
  {
   "cell_type": "markdown",
   "metadata": {},
   "source": [
    "###### Let's install the python client for the official Twitter API"
   ]
  },
  {
   "cell_type": "code",
   "execution_count": 1,
   "metadata": {},
   "outputs": [
    {
     "name": "stdout",
     "output_type": "stream",
     "text": [
      "Requirement already satisfied: tweepy in c:\\users\\hadja\\anaconda3\\lib\\site-packages (3.10.0)\n",
      "Requirement already satisfied: requests[socks]>=2.11.1 in c:\\users\\hadja\\anaconda3\\lib\\site-packages (from tweepy) (2.24.0)\n",
      "Requirement already satisfied: requests-oauthlib>=0.7.0 in c:\\users\\hadja\\anaconda3\\lib\\site-packages (from tweepy) (1.3.0)\n",
      "Requirement already satisfied: six>=1.10.0 in c:\\users\\hadja\\anaconda3\\lib\\site-packages (from tweepy) (1.15.0)\n",
      "Requirement already satisfied: certifi>=2017.4.17 in c:\\users\\hadja\\anaconda3\\lib\\site-packages (from requests[socks]>=2.11.1->tweepy) (2020.6.20)\n",
      "Requirement already satisfied: idna<3,>=2.5 in c:\\users\\hadja\\anaconda3\\lib\\site-packages (from requests[socks]>=2.11.1->tweepy) (2.10)\n",
      "Requirement already satisfied: chardet<4,>=3.0.2 in c:\\users\\hadja\\anaconda3\\lib\\site-packages (from requests[socks]>=2.11.1->tweepy) (3.0.4)\n",
      "Requirement already satisfied: urllib3!=1.25.0,!=1.25.1,<1.26,>=1.21.1 in c:\\users\\hadja\\anaconda3\\lib\\site-packages (from requests[socks]>=2.11.1->tweepy) (1.25.11)\n",
      "Requirement already satisfied: PySocks!=1.5.7,>=1.5.6; extra == \"socks\" in c:\\users\\hadja\\anaconda3\\lib\\site-packages (from requests[socks]>=2.11.1->tweepy) (1.7.1)\n",
      "Requirement already satisfied: oauthlib>=3.0.0 in c:\\users\\hadja\\anaconda3\\lib\\site-packages (from requests-oauthlib>=0.7.0->tweepy) (3.1.0)\n",
      "Note: you may need to restart the kernel to use updated packages.\n"
     ]
    }
   ],
   "source": [
    "pip install tweepy"
   ]
  },
  {
   "cell_type": "code",
   "execution_count": 2,
   "metadata": {},
   "outputs": [
    {
     "data": {
      "text/plain": [
       "'pycountry is a python library used to access ISO country, subdivision, language, currency etc.\\npycountry is an ISO databases for the standards: 639-3 languages. 3166 countries. 3166-3 deleted countries.'"
      ]
     },
     "execution_count": 2,
     "metadata": {},
     "output_type": "execute_result"
    }
   ],
   "source": [
    "#pip install pycountry \n",
    "import pycountry\n",
    "\n",
    "'''pycountry is a python library used to access ISO country, subdivision, language, currency etc.\n",
    "pycountry is an ISO databases for the standards: 639-3 languages. 3166 countries. 3166-3 deleted countries.'''"
   ]
  },
  {
   "cell_type": "markdown",
   "metadata": {},
   "source": [
    "######  Let's install  textblob python library for processing textual data"
   ]
  },
  {
   "cell_type": "code",
   "execution_count": 3,
   "metadata": {},
   "outputs": [
    {
     "name": "stdout",
     "output_type": "stream",
     "text": [
      "Requirement already satisfied: textblob in c:\\users\\hadja\\anaconda3\\lib\\site-packages (0.15.3)\n",
      "Requirement already satisfied: nltk>=3.1 in c:\\users\\hadja\\anaconda3\\lib\\site-packages (from textblob) (3.5)\n",
      "Requirement already satisfied: regex in c:\\users\\hadja\\anaconda3\\lib\\site-packages (from nltk>=3.1->textblob) (2020.10.15)\n",
      "Requirement already satisfied: joblib in c:\\users\\hadja\\anaconda3\\lib\\site-packages (from nltk>=3.1->textblob) (0.17.0)\n",
      "Requirement already satisfied: tqdm in c:\\users\\hadja\\anaconda3\\lib\\site-packages (from nltk>=3.1->textblob) (4.50.2)\n",
      "Requirement already satisfied: click in c:\\users\\hadja\\anaconda3\\lib\\site-packages (from nltk>=3.1->textblob) (7.1.2)\n",
      "Note: you may need to restart the kernel to use updated packages.\n"
     ]
    }
   ],
   "source": [
    "pip install textblob"
   ]
  },
  {
   "cell_type": "markdown",
   "metadata": {},
   "source": [
    "######  Let's  install some NLTK corpora "
   ]
  },
  {
   "cell_type": "code",
   "execution_count": 4,
   "metadata": {},
   "outputs": [],
   "source": [
    "#python textblob.download_corpora\n",
    "#python -m textblob.download_corpora"
   ]
  },
  {
   "cell_type": "code",
   "execution_count": 5,
   "metadata": {},
   "outputs": [],
   "source": [
    "import re #re library is a regualr expression that specifies a set of strings that matches it\n",
    "import tweepy #tweepy library is a Python Library used for accesing Twitter API\n",
    "from tweepy import OAuthHandler #OAuthHandler used for twitter to provide Twitter API to authenticate each request.\n",
    "from textblob import TextBlob #textblob is an open source python library  used for processing textual data.\n",
    "import matplotlib.pyplot as plt # Matplotlib used to plot data i.e., pie chart etc\n",
    "\n",
    "#libraries for displaying results in charts \n",
    "import pandas as pd\n",
    "import numpy as np\n"
   ]
  },
  {
   "cell_type": "code",
   "execution_count": 6,
   "metadata": {},
   "outputs": [],
   "source": [
    "#authentication keys found on tweeter account\n",
    "accessToken = \"1353371185145405440-RFcjCV61tWceZC2V4m34AOiMdoYcki\"\n",
    "accessTokenSecret = \"LRyiTnjYanpkersLgViCUylyIaM3AFVIt9JLQLy3OefJX\"\n",
    "consumerKey = \"AiFv3DciTRjSHrIRjVEGIcQEQ\"\n",
    "consumerSecret = \"XgczKyKjPBCfnComUyPEtyHuYYWxmXr9RmnXmvMq2GRcg1VcsL\"\n",
    "\n",
    "auth = tweepy.OAuthHandler(consumerKey,consumerSecret )\n",
    "auth.set_access_token(accessToken,accessTokenSecret)\n",
    "api = tweepy.API(auth, wait_on_rate_limit=True)"
   ]
  },
  {
   "cell_type": "code",
   "execution_count": 7,
   "metadata": {},
   "outputs": [],
   "source": [
    "# Generic Twitter Class for sentiment analysis.\n",
    "class TwitterClient(object):\n",
    "         \n",
    "     # Class constructor or initialization method.\n",
    "    def __init__(self):\n",
    "     #__init__ is a constructor method, constructor is called when an object is created\n",
    "       \n",
    "        \n",
    "        # keys and tokens from the Twitter Dev Console\n",
    "        consumer_key = 'AiFv3DciTRjSHrIRjVEGIcQEQ'\n",
    "        consumer_secret = 'XgczKyKjPBCfnComUyPEtyHuYYWxmXr9RmnXmvMq2GRcg1VcsL'\n",
    "        access_token = '1353371185145405440-RFcjCV61tWceZC2V4m34AOiMdoYcki'\n",
    "        access_token_secret = 'LRyiTnjYanpkersLgViCUylyIaM3AFVIt9JLQLy3OefJX'\n",
    "  \n",
    "        # attempt authentication\n",
    "        try:\n",
    "            print(\"try\")\n",
    "            # create OAuthHandler object\n",
    "            self.auth = tweepy.OAuthHandler(consumer_key, consumer_secret)\n",
    "            # set access token and secret\n",
    "            self.auth.set_access_token(access_token, access_token_secret)\n",
    "            # create tweepy API object to fetch tweets\n",
    "            self.api = tweepy.API(self.auth,wait_on_rate_limit=True)\n",
    "        except:\n",
    "            print(\"Error: Authentication Failed\")\n",
    "            \n",
    "    # Utility function to clean tweet text by removing links, special characters\n",
    "    def clean_tweet(self, tweet):\n",
    "     \n",
    " # using simple regex statements to clean the text, remove any unnecessary punctuation before performing sentiment analysis.\n",
    "   \n",
    "        return ' '.join(re.sub(\"(@[A-Za-z0-9]+)|([^0-9A-Za-z \\t])|(\\w+:\\/\\/\\S+)\", \" \", tweet).split())\n",
    "\n",
    "    # Utility function to classify sentiment of passed tweet using textblob's sentiment method\n",
    "    def get_tweet_sentiment(self, tweet):\n",
    "\n",
    "            # create TextBlob object of passed tweet text\n",
    "            analysis = TextBlob(self.clean_tweet(tweet))\n",
    "            # set sentiment\n",
    "            #if the analysis of the text has a polarity greater than 0, that means the text is positive\n",
    "            #if the analysis of the text has a polarity that is equal to 0 it means it is neutral\n",
    "            #else if the analysis of the text has a polarity that is neither greater than 0 or equal to 0, \n",
    "            #meaning the polarity is less than 0, it means the text is negative.\n",
    "            if analysis.sentiment.polarity > 0:\n",
    "                return 'positive'\n",
    "            elif analysis.sentiment.polarity == 0:\n",
    "                return 'neutral'\n",
    "            elif analysis.sentiment.polarity < 0:\n",
    "                return 'negative'\n",
    "        \n",
    "    \n",
    "        \n",
    "            \n",
    "    # Main function to fetch tweets and parse them.\n",
    "    #count = 5 , 5 is the default number of tweets to display \n",
    "    #if user has not entered number of tweets for sentiment analysis at main function\n",
    "    def get_tweets(self, query, count = 5):\n",
    "\n",
    "            # empty list to store parsed tweets\n",
    "            tweets = []\n",
    "\n",
    "            try:\n",
    "                # call twitter api to fetch tweets\n",
    "                fetched_tweets = self.api.search(q = query, count = count)\n",
    "\n",
    "                # parsing tweets one by one\n",
    "                for tweet in fetched_tweets:\n",
    "                    # empty dictionary to store required params of a tweet\n",
    "                    parsed_tweet = {}\n",
    "\n",
    "                    # saving text of tweet\n",
    "                    parsed_tweet['text'] = tweet.text\n",
    "                    # saving sentiment of tweet\n",
    "                    parsed_tweet['sentiment'] = self.get_tweet_sentiment(tweet.text)\n",
    "\n",
    "                    # appending parsed tweet to tweets list\n",
    "                    if tweet.retweet_count > 0:\n",
    "                        # if tweet has retweets, ensure that it is appended only once to avoid duplicates\n",
    "                        if parsed_tweet not in tweets:\n",
    "                            tweets.append(parsed_tweet)\n",
    "                    else:\n",
    "                        tweets.append(parsed_tweet)\n",
    "                        \n",
    "                # VIEW DATAFRAME USING PANDAS\n",
    "                tweet_list = pd.DataFrame(tweets)\n",
    "                print(\"Tweets from PANDAS: \" + \" \", (tweet_list))\n",
    "                #PRINTING TWEETS TO ALLOW ME TO DISPLAY RESULTS IN CHARTS         \n",
    "                \n",
    "                # return parsed tweets\n",
    "                return tweets\n",
    "\n",
    "            except tweepy.TweepError as e:\n",
    "                # print error (if any)\n",
    "                print(\"Error : \" + str(e))\n",
    "                \n",
    "     \n",
    "    \n"
   ]
  },
  {
   "cell_type": "code",
   "execution_count": 120,
   "metadata": {},
   "outputs": [],
   "source": [
    "def main(query, count = 5): \n",
    "\n",
    "    #count 5 is the default value for tweets when the user did not put the number of tweets to do sentiment analysis on \n",
    "\n",
    "    # creating object of TwitterClient Class \n",
    "\n",
    "    api = TwitterClient() \n",
    "\n",
    "    # calling function to get tweets \n",
    "\n",
    "    tweets = api.get_tweets(query, count) \n",
    "\n",
    "   \n",
    "\n",
    "    # picking positive tweets from tweets \n",
    "    ptweets = [tweet for tweet in tweets if tweet['sentiment'] == 'positive'] \n",
    "\n",
    "    # percentage of positive tweets \n",
    "    print(\"\\nPositive tweets percentage: {} %\".format(100*len(ptweets)/len(tweets)))    \n",
    "    \n",
    "    # picking negative tweets from tweets \n",
    "    ntweets = [tweet for tweet in tweets if tweet['sentiment'] == 'negative'] \n",
    "\n",
    "    # percentage of negative tweets \n",
    "    print(\"Negative tweets percentage: {} %\".format(100*len(ntweets)/len(tweets))) \n",
    "\n",
    "    \n",
    "    neutweets = [tweet for tweet in tweets if tweet['sentiment'] == 'neutral'] \n",
    "    # percentage of neutral tweets \n",
    "    print(\"Neutral tweets percentage: {} %  \".format(100*(len(tweets) -(len( ntweets )+len( ptweets)))/len(tweets)))        \n",
    "     \n",
    "    \n",
    "    # printing first 10 positive tweets \n",
    "    print(\"\\nPositive tweets:\")\n",
    "    for tweet in ptweets[:10]: \n",
    "        print(tweet['text'])       \n",
    "\n",
    "        \n",
    "    \n",
    "    print(\"\\n-------------------------------------------------------------------\") \n",
    "    \n",
    "        #printing 10 neutral tweets\n",
    "    print(\"\\nNegative tweets:\")\n",
    "    for tweet in ntweets[:10]: \n",
    "        print(tweet['text']) \n",
    "    \n",
    "    print(\"\\n-------------------------------------------------------------------\") # space between text\n",
    "    \n",
    "    # printing first 10 negative tweets \n",
    "    print(\"\\nNeutral tweets:\") \n",
    "    for tweet in neutweets[:10]: \n",
    "        print(tweet['text']) \n",
    "        #print(tweet['text_mode='extended'']) \n",
    "        #tweet_mode=\"extended\"\n",
    "        \n",
    "    print(\"\\n----------------------------Sentiment Analysis Charts----------------------------------------------\")\n",
    "# VIEW DATAFRAME USING PANDAS\n",
    "    tweet_list = pd.DataFrame(tweets)\n",
    "    #print(\"Tweets from PANDAS: \" + \" \", (tweet_list))\n",
    "    #PRINTING TWEETS TO ALLOW ME TO DISPLAY RESULTS IN CHARTS\n",
    "        \n",
    "        #TRYOUT\n",
    "    plt.figure(figsize=(9,5)) \n",
    "    plt.title(\"Sentiment Analysis Tweets Chart\", fontsize=10, fontweight=\"bold\") #title of chart\n",
    "    #plt.bar(tweet_list[\"sentiment\"], tweet_list[\"sentiment\"], color = \"green\")\n",
    "    plt.plot(tweet_list[\"sentiment\"], color = \"green\")\n",
    "    plt.show()\n",
    "    \n",
    "    \n",
    "    \n",
    " #===============================================================================================================   \n",
    "   \n",
    "        #TRYOUT PRINT POSITIVE TWEETS ONLY\n",
    "    \n",
    "    #tweet_list = pd.DataFrame(tweets)\n",
    "        #TRYOUT\n",
    "    plt.figure(figsize=(10,5)) \n",
    "    plt.title(\"Sentiment Analysis Tweets Chart\", fontsize=10, fontweight=\"bold\") #title of chart\n",
    "    #plt.bar(tweet_list[\"sentiment\"], tweet_list[\"sentiment\"], color = \"green\")\n",
    "    #print(\"Positive tweets percentage: {} %\".format(100*len(ptweets)/len(tweets)))\n",
    "    \n",
    "    plt.hist(tweet_list[\"sentiment\"], bins = 20, density =1,color = \"purple\")\n",
    "    plt.xlabel(\"Sentiment\")\n",
    "    plt.ylabel(\"percentage % of sentiment analysis tweet\")\n",
    "    \n",
    "    plt.show()\n",
    "    \n",
    "    #DIAPLAY PERCENTAGE OF TWEETS TO HELP READER\n",
    "    \n",
    "    # picking positive tweets from tweets \n",
    "    ptweets = [tweet for tweet in tweets if tweet['sentiment'] == 'positive'] \n",
    "\n",
    "    # percentage of positive tweets \n",
    "    print(\"\\nPositive tweets percentage: {} %\".format(100*len(ptweets)/len(tweets)))    \n",
    "    \n",
    "    # picking negative tweets from tweets \n",
    "    ntweets = [tweet for tweet in tweets if tweet['sentiment'] == 'negative'] \n",
    "\n",
    "    # percentage of negative tweets \n",
    "    print(\"Negative tweets percentage: {} %\".format(100*len(ntweets)/len(tweets))) \n",
    "\n",
    "    \n",
    "    neutweets = [tweet for tweet in tweets if tweet['sentiment'] == 'neutral'] \n",
    "    # percentage of neutral tweets \n",
    "    print(\"Neutral tweets percentage: {} %  \".format(100*(len(tweets) -(len( ntweets )+len( ptweets)))/len(tweets)))        \n",
    "     \n",
    "\n",
    "        \n",
    "        \n",
    "        \n",
    "        \n",
    "    #tweet_list = pd.DataFrame(tweet_list)\n",
    "    \n",
    "    #PIE CHART ATTEMPT\n",
    "    #plt.title(\"POSITIVE Tweets Chart TRYOUT 2\", fontsize=12, fontweight=\"bold\")\n",
    "    #plt.pie(tweet_list['count'],labels = tweet_list, startangle = 90, shadow = True, \n",
    "     #      explode = (0, 0, 0.1, 0), radius = 1.2, autopct = '%1.1f%%')\n",
    "    #plt.legend()\n",
    "    #plt.show()\n",
    "    \n",
    "    \n",
    "    #---------------------------------------------------------------------------------------------------------\n"
   ]
  },
  {
   "cell_type": "code",
   "execution_count": 123,
   "metadata": {},
   "outputs": [
    {
     "name": "stdout",
     "output_type": "stream",
     "text": [
      "try\n",
      "Tweets from PANDAS:                                                    text sentiment\n",
      "0   🔴The UK economy is reeling from three shocks i...  positive\n",
      "1   RT @WizePenguin: Murdoch / LNP / MORRISON want...  positive\n",
      "2   Murdoch / LNP / MORRISON wanted Covid-19 to RI...   neutral\n",
      "3   RT @LeedsUniBSchool: Dr @anninak82 is leading ...   neutral\n",
      "4   Dr @anninak82 is leading a project on Global V...   neutral\n",
      "5   @ImSoBrexcited @Sal1A9 @_noblewriter \"The UK-b...  negative\n",
      "6   RT @truesolicitor: @Cornfla91312361 @jk_rowlin...  positive\n",
      "7   Making visible the care economy (paid and unpa...  positive\n",
      "8   @Cornfla91312361 @jk_rowling @NicolaSturgeon T...  positive\n",
      "9   Many managers at UK companies expect to dial b...  positive\n",
      "10  RT @WizePenguin: Murdoch / LNP / MORRISON want...  positive\n",
      "11  Freightliner – Keeping the country running\\n\\n...  positive\n",
      "12  @bolof2000 Even UK, France &amp; Germany doesn...  negative\n",
      "13  Murdoch / LNP / MORRISON wanted Covid-19 to RI...   neutral\n",
      "14  Murdoch / LNP / MORRISON wanted Covid-19 to RI...   neutral\n",
      "15  Our Corporate Action Plan has been approved, i...  positive\n",
      "16  RT @Azeem_Majeed: The UK has been a world lead...   neutral\n",
      "17  @pampidoo_ @vee_myeni @cletus_mfon The Europea...  negative\n",
      "18  The UK has been a world leader in the routine ...   neutral\n",
      "19  @Montaldo_Pablo Por ejemplo :\\n\\nhttps://t.co/...   neutral\n",
      "20  RT @UKandEU: 🔴REGISTER NOW🔴\\n\\nOn 23 Mar, Rish...   neutral\n",
      "21  Covid-19 pills will ‘allow UK to fully reopen ...   neutral\n",
      "22  Here's a quick overview of the effects COVID-1...  positive\n",
      "23  🔴REGISTER NOW🔴\\n\\nOn 23 Mar, Rishi Sunak will ...   neutral\n",
      "24  Covid-19 pills will ‘allow the UK to fully reo...   neutral\n",
      "25  Best path to recovery needs to understand the ...  positive\n",
      "26  Murdoch / LNP / MORRISON wanted Covid-19 to RI...   neutral\n",
      "27  RT @londiner: @WindleBeth @lickedspoon @lakedi...   neutral\n",
      "28  Has the impact of the past 24 months created t...  negative\n",
      "29  RT @LondonAssembly: 📢TOMORROW at a Plenary mee...   neutral\n",
      "30  @rec777777 @ConraddKonnrad @Quisitive6 @987_ch...   neutral\n",
      "31  📢TOMORROW at a Plenary meeting of the London A...   neutral\n",
      "32  RT @BuDs_UK: There is no better way to cripple...  negative\n",
      "33  There is no better way to cripple the UK econo...  negative\n",
      "34  Never forgot [they] forced people into quarant...  positive\n",
      "35  @WindleBeth @lickedspoon @lakedistrictnpa http...   neutral\n",
      "36  Murdoch / LNP / MORRISON wanted Covid-19 to RI...   neutral\n",
      "37                            https://t.co/eeuukQjzpe   neutral\n",
      "38  RT @nibusinessinfo: DEADLINE | The 3rd call fo...   neutral\n",
      "\n",
      "Positive tweets percentage: 30.76923076923077 %\n",
      "Negative tweets percentage: 15.384615384615385 %\n",
      "Neutral tweets percentage: 53.84615384615385 %  \n",
      "\n",
      "Positive tweets:\n",
      "🔴The UK economy is reeling from three shocks in quick succession: Brexit, Covid-19 and now Russia’s invasion of Ukr… https://t.co/Sxiw04x1aY\n",
      "RT @WizePenguin: Murdoch / LNP / MORRISON wanted Covid-19 to RIP thru the ECONOMY just like in the USA / UK!\n",
      "Hence the INACTION on so many…\n",
      "RT @truesolicitor: @Cornfla91312361 @jk_rowling @NicolaSturgeon That didn’t stop these *exact same Charities* criticising the Scottish gove…\n",
      "Making visible the care economy (paid and unpaid) in #LatinAmerica, and the unique opportunity for the region to re… https://t.co/JFogkFslac\n",
      "@Cornfla91312361 @jk_rowling @NicolaSturgeon That didn’t stop these *exact same Charities* criticising the Scottish… https://t.co/PVWbegLkSq\n",
      "Many managers at UK companies expect to dial back their pandemic-era embrace of remote work and flexible arrangemen… https://t.co/2PP87iFLRR\n",
      "RT @WizePenguin: Murdoch / LNP / MORRISON wanted Covid-19 to RIP thru the ECONOMY just like in the USA / UK!\n",
      "\n",
      "Hence the INACTION on so many…\n",
      "Freightliner – Keeping the country running\n",
      "\n",
      "Although COVID-19 has created many challenges for all parts of the econ… https://t.co/kMehPCw2kR\n",
      "Our Corporate Action Plan has been approved, including our Economy and Covid-19 recovery priority project. Actions… https://t.co/SDQLCwwQwT\n",
      "Here's a quick overview of the effects COVID-19 had on the UK's economy. So what's next with WW3 in sight?\n",
      "\n",
      "#nigzu… https://t.co/y9FlmN66go\n",
      "\n",
      "-------------------------------------------------------------------\n",
      "\n",
      "Negative tweets:\n",
      "@ImSoBrexcited @Sal1A9 @_noblewriter \"The UK-based Office for Budget Responsibility (OBR) states that the long-term… https://t.co/BiR8bt5g9O\n",
      "@bolof2000 Even UK, France &amp; Germany doesnt want war. US has been fighting war in the Middle East for the past 20yr… https://t.co/WKLbtWOGzZ\n",
      "@pampidoo_ @vee_myeni @cletus_mfon The European economy is getting worse every year, and the UK still chooses to le… https://t.co/CjflWmavfS\n",
      "Has the impact of the past 24 months created too big a task for construction to exist as the economy’s saviour once… https://t.co/mNzF8X9S3J\n",
      "RT @BuDs_UK: There is no better way to cripple the UK economy than to allow Covid-19 to spread unchecked. You may escape Long Covid the fir…\n",
      "There is no better way to cripple the UK economy than to allow Covid-19 to spread unchecked. You may escape Long Co… https://t.co/CYU4PNf3Tz\n",
      "\n",
      "-------------------------------------------------------------------\n",
      "\n",
      "Neutral tweets:\n",
      "Murdoch / LNP / MORRISON wanted Covid-19 to RIP thru the ECONOMY just like in the USA / UK!\n",
      "Hence the INACTION on s… https://t.co/vYaiN4Hbwh\n",
      "RT @LeedsUniBSchool: Dr @anninak82 is leading a project on Global Value Chains and Finance. Both the rise of GVCs and financialization are…\n",
      "Dr @anninak82 is leading a project on Global Value Chains and Finance. Both the rise of GVCs and financialization a… https://t.co/Y6sG0HQnR2\n",
      "Murdoch / LNP / MORRISON wanted Covid-19 to RIP thru the ECONOMY just like in the USA / UK!\n",
      "\n",
      "Hence the INACTION on… https://t.co/sOdiSXpmE1\n",
      "Murdoch / LNP / MORRISON wanted Covid-19 to RIP thru the ECONOMY just like in the USA / UK!\n",
      "Hence the \"INACTION\" on… https://t.co/4FduLY4bm4\n",
      "RT @Azeem_Majeed: The UK has been a world leader in the routine surveillance of Covid-19 and the transparent reporting of Covid-19 data. Sc…\n",
      "The UK has been a world leader in the routine surveillance of Covid-19 and the transparent reporting of Covid-19 da… https://t.co/xDpXx0sZ51\n",
      "@Montaldo_Pablo Por ejemplo :\n",
      "\n",
      "https://t.co/D5WcBBJVHr\n",
      "RT @UKandEU: 🔴REGISTER NOW🔴\n",
      "\n",
      "On 23 Mar, Rishi Sunak will announce his 2022 Spring forecast statement. Join @jdportes @BenChu_ @swatdhingraL…\n",
      "Covid-19 pills will ‘allow UK to fully reopen economy’ as pandemic impacts weigh https://t.co/K4GId5c5jw\n",
      "\n",
      "----------------------------Sentiment Analysis Charts----------------------------------------------\n"
     ]
    },
    {
     "data": {
      "image/png": "[encoded data removed]",
      "text/plain": [
       "<Figure size 648x360 with 1 Axes>"
      ]
     },
     "metadata": {
      "needs_background": "light"
     },
     "output_type": "display_data"
    },
    {
     "data": {
      "image/png": "[encoded data removed]",
      "text/plain": [
       "<Figure size 720x360 with 1 Axes>"
      ]
     },
     "metadata": {
      "needs_background": "light"
     },
     "output_type": "display_data"
    },
    {
     "name": "stdout",
     "output_type": "stream",
     "text": [
      "\n",
      "Positive tweets percentage: 30.76923076923077 %\n",
      "Negative tweets percentage: 15.384615384615385 %\n",
      "Neutral tweets percentage: 53.84615384615385 %  \n"
     ]
    }
   ],
   "source": [
    "main(\"uk economy covid-19 uk\", 100)"
   ]
  },
  {
   "cell_type": "code",
   "execution_count": null,
   "metadata": {},
   "outputs": [],
   "source": []
  },
  {
   "cell_type": "code",
   "execution_count": null,
   "metadata": {},
   "outputs": [],
   "source": []
  },
  {
   "cell_type": "code",
   "execution_count": null,
   "metadata": {},
   "outputs": [],
   "source": []
  },
  {
   "cell_type": "code",
   "execution_count": null,
   "metadata": {},
   "outputs": [],
   "source": []
  },
  {
   "cell_type": "code",
   "execution_count": null,
   "metadata": {},
   "outputs": [],
   "source": []
  },
  {
   "cell_type": "code",
   "execution_count": null,
   "metadata": {},
   "outputs": [],
   "source": []
  },
  {
   "cell_type": "code",
   "execution_count": null,
   "metadata": {},
   "outputs": [],
   "source": []
  },
  {
   "cell_type": "code",
   "execution_count": null,
   "metadata": {},
   "outputs": [],
   "source": []
  },
  {
   "cell_type": "code",
   "execution_count": null,
   "metadata": {},
   "outputs": [],
   "source": []
  },
  {
   "cell_type": "code",
   "execution_count": null,
   "metadata": {},
   "outputs": [],
   "source": []
  },
  {
   "cell_type": "code",
   "execution_count": null,
   "metadata": {},
   "outputs": [],
   "source": []
  },
  {
   "cell_type": "code",
   "execution_count": null,
   "metadata": {},
   "outputs": [],
   "source": []
  },
  {
   "cell_type": "code",
   "execution_count": null,
   "metadata": {},
   "outputs": [],
   "source": []
  }
 ],
 "metadata": {
  "kernelspec": {
   "display_name": "Python 3",
   "language": "python",
   "name": "python3"
  },
  "language_info": {
   "codemirror_mode": {
    "name": "ipython",
    "version": 3
   },
   "file_extension": ".py",
   "mimetype": "text/x-python",
   "name": "python",
   "nbconvert_exporter": "python",
   "pygments_lexer": "ipython3",
   "version": "3.8.5"
  }
 },
 "nbformat": 4,
 "nbformat_minor": 4
}
